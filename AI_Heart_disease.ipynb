{
  "nbformat": 4,
  "nbformat_minor": 0,
  "metadata": {
    "colab": {
      "provenance": []
    },
    "kernelspec": {
      "name": "python3",
      "display_name": "Python 3"
    },
    "language_info": {
      "name": "python"
    }
  },
  "cells": [
    {
      "cell_type": "code",
      "source": [
        "pip install gradio\n"
      ],
      "metadata": {
        "colab": {
          "base_uri": "https://localhost:8080/"
        },
        "id": "x1yJXrYts2Xk",
        "outputId": "bdf0e6e0-2253-4303-8c0c-181f332e828d"
      },
      "execution_count": 5,
      "outputs": [
        {
          "output_type": "stream",
          "name": "stdout",
          "text": [
            "Requirement already satisfied: gradio in /usr/local/lib/python3.11/dist-packages (5.14.0)\n",
            "Requirement already satisfied: aiofiles<24.0,>=22.0 in /usr/local/lib/python3.11/dist-packages (from gradio) (23.2.1)\n",
            "Requirement already satisfied: anyio<5.0,>=3.0 in /usr/local/lib/python3.11/dist-packages (from gradio) (3.7.1)\n",
            "Requirement already satisfied: fastapi<1.0,>=0.115.2 in /usr/local/lib/python3.11/dist-packages (from gradio) (0.115.8)\n",
            "Requirement already satisfied: ffmpy in /usr/local/lib/python3.11/dist-packages (from gradio) (0.5.0)\n",
            "Requirement already satisfied: gradio-client==1.7.0 in /usr/local/lib/python3.11/dist-packages (from gradio) (1.7.0)\n",
            "Requirement already satisfied: httpx>=0.24.1 in /usr/local/lib/python3.11/dist-packages (from gradio) (0.28.1)\n",
            "Requirement already satisfied: huggingface-hub>=0.25.1 in /usr/local/lib/python3.11/dist-packages (from gradio) (0.27.1)\n",
            "Requirement already satisfied: jinja2<4.0 in /usr/local/lib/python3.11/dist-packages (from gradio) (3.1.5)\n",
            "Requirement already satisfied: markupsafe~=2.0 in /usr/local/lib/python3.11/dist-packages (from gradio) (2.1.5)\n",
            "Requirement already satisfied: numpy<3.0,>=1.0 in /usr/local/lib/python3.11/dist-packages (from gradio) (1.26.4)\n",
            "Requirement already satisfied: orjson~=3.0 in /usr/local/lib/python3.11/dist-packages (from gradio) (3.10.15)\n",
            "Requirement already satisfied: packaging in /usr/local/lib/python3.11/dist-packages (from gradio) (24.2)\n",
            "Requirement already satisfied: pandas<3.0,>=1.0 in /usr/local/lib/python3.11/dist-packages (from gradio) (2.2.2)\n",
            "Requirement already satisfied: pillow<12.0,>=8.0 in /usr/local/lib/python3.11/dist-packages (from gradio) (11.1.0)\n",
            "Requirement already satisfied: pydantic>=2.0 in /usr/local/lib/python3.11/dist-packages (from gradio) (2.10.6)\n",
            "Requirement already satisfied: pydub in /usr/local/lib/python3.11/dist-packages (from gradio) (0.25.1)\n",
            "Requirement already satisfied: python-multipart>=0.0.18 in /usr/local/lib/python3.11/dist-packages (from gradio) (0.0.20)\n",
            "Requirement already satisfied: pyyaml<7.0,>=5.0 in /usr/local/lib/python3.11/dist-packages (from gradio) (6.0.2)\n",
            "Requirement already satisfied: ruff>=0.9.3 in /usr/local/lib/python3.11/dist-packages (from gradio) (0.9.4)\n",
            "Requirement already satisfied: safehttpx<0.2.0,>=0.1.6 in /usr/local/lib/python3.11/dist-packages (from gradio) (0.1.6)\n",
            "Requirement already satisfied: semantic-version~=2.0 in /usr/local/lib/python3.11/dist-packages (from gradio) (2.10.0)\n",
            "Requirement already satisfied: starlette<1.0,>=0.40.0 in /usr/local/lib/python3.11/dist-packages (from gradio) (0.45.3)\n",
            "Requirement already satisfied: tomlkit<0.14.0,>=0.12.0 in /usr/local/lib/python3.11/dist-packages (from gradio) (0.13.2)\n",
            "Requirement already satisfied: typer<1.0,>=0.12 in /usr/local/lib/python3.11/dist-packages (from gradio) (0.15.1)\n",
            "Requirement already satisfied: typing-extensions~=4.0 in /usr/local/lib/python3.11/dist-packages (from gradio) (4.12.2)\n",
            "Requirement already satisfied: uvicorn>=0.14.0 in /usr/local/lib/python3.11/dist-packages (from gradio) (0.34.0)\n",
            "Requirement already satisfied: fsspec in /usr/local/lib/python3.11/dist-packages (from gradio-client==1.7.0->gradio) (2024.10.0)\n",
            "Requirement already satisfied: websockets<15.0,>=10.0 in /usr/local/lib/python3.11/dist-packages (from gradio-client==1.7.0->gradio) (14.2)\n",
            "Requirement already satisfied: idna>=2.8 in /usr/local/lib/python3.11/dist-packages (from anyio<5.0,>=3.0->gradio) (3.10)\n",
            "Requirement already satisfied: sniffio>=1.1 in /usr/local/lib/python3.11/dist-packages (from anyio<5.0,>=3.0->gradio) (1.3.1)\n",
            "Requirement already satisfied: certifi in /usr/local/lib/python3.11/dist-packages (from httpx>=0.24.1->gradio) (2024.12.14)\n",
            "Requirement already satisfied: httpcore==1.* in /usr/local/lib/python3.11/dist-packages (from httpx>=0.24.1->gradio) (1.0.7)\n",
            "Requirement already satisfied: h11<0.15,>=0.13 in /usr/local/lib/python3.11/dist-packages (from httpcore==1.*->httpx>=0.24.1->gradio) (0.14.0)\n",
            "Requirement already satisfied: filelock in /usr/local/lib/python3.11/dist-packages (from huggingface-hub>=0.25.1->gradio) (3.17.0)\n",
            "Requirement already satisfied: requests in /usr/local/lib/python3.11/dist-packages (from huggingface-hub>=0.25.1->gradio) (2.32.3)\n",
            "Requirement already satisfied: tqdm>=4.42.1 in /usr/local/lib/python3.11/dist-packages (from huggingface-hub>=0.25.1->gradio) (4.67.1)\n",
            "Requirement already satisfied: python-dateutil>=2.8.2 in /usr/local/lib/python3.11/dist-packages (from pandas<3.0,>=1.0->gradio) (2.8.2)\n",
            "Requirement already satisfied: pytz>=2020.1 in /usr/local/lib/python3.11/dist-packages (from pandas<3.0,>=1.0->gradio) (2024.2)\n",
            "Requirement already satisfied: tzdata>=2022.7 in /usr/local/lib/python3.11/dist-packages (from pandas<3.0,>=1.0->gradio) (2025.1)\n",
            "Requirement already satisfied: annotated-types>=0.6.0 in /usr/local/lib/python3.11/dist-packages (from pydantic>=2.0->gradio) (0.7.0)\n",
            "Requirement already satisfied: pydantic-core==2.27.2 in /usr/local/lib/python3.11/dist-packages (from pydantic>=2.0->gradio) (2.27.2)\n",
            "Requirement already satisfied: click>=8.0.0 in /usr/local/lib/python3.11/dist-packages (from typer<1.0,>=0.12->gradio) (8.1.8)\n",
            "Requirement already satisfied: shellingham>=1.3.0 in /usr/local/lib/python3.11/dist-packages (from typer<1.0,>=0.12->gradio) (1.5.4)\n",
            "Requirement already satisfied: rich>=10.11.0 in /usr/local/lib/python3.11/dist-packages (from typer<1.0,>=0.12->gradio) (13.9.4)\n",
            "Requirement already satisfied: six>=1.5 in /usr/local/lib/python3.11/dist-packages (from python-dateutil>=2.8.2->pandas<3.0,>=1.0->gradio) (1.17.0)\n",
            "Requirement already satisfied: markdown-it-py>=2.2.0 in /usr/local/lib/python3.11/dist-packages (from rich>=10.11.0->typer<1.0,>=0.12->gradio) (3.0.0)\n",
            "Requirement already satisfied: pygments<3.0.0,>=2.13.0 in /usr/local/lib/python3.11/dist-packages (from rich>=10.11.0->typer<1.0,>=0.12->gradio) (2.18.0)\n",
            "Requirement already satisfied: charset-normalizer<4,>=2 in /usr/local/lib/python3.11/dist-packages (from requests->huggingface-hub>=0.25.1->gradio) (3.4.1)\n",
            "Requirement already satisfied: urllib3<3,>=1.21.1 in /usr/local/lib/python3.11/dist-packages (from requests->huggingface-hub>=0.25.1->gradio) (2.3.0)\n",
            "Requirement already satisfied: mdurl~=0.1 in /usr/local/lib/python3.11/dist-packages (from markdown-it-py>=2.2.0->rich>=10.11.0->typer<1.0,>=0.12->gradio) (0.1.2)\n"
          ]
        }
      ]
    },
    {
      "cell_type": "code",
      "source": [
        "import gradio as gr\n",
        "import pickle\n",
        "import numpy as np\n",
        "\n",
        "# Load the trained model and scaler\n",
        "\n",
        "\n",
        "with open('random_forest_model.pkl', 'rb') as model_file:\n",
        "    model = pickle.load(model_file)\n",
        "\n",
        "with open('scaler.pkl', 'rb') as scaler_file:\n",
        "    scaler = pickle.load(scaler_file)"
      ],
      "metadata": {
        "id": "mM2fvHc3t3j9"
      },
      "execution_count": 6,
      "outputs": []
    },
    {
      "cell_type": "code",
      "source": [
        "# def predict_heart_disease(age, sex, cp, trestbps, chol, fbs, restecg, thalach, exang, oldpeak, slope, ca, thal):\n",
        "#     # Convert inputs into numpy array and reshape\n",
        "#     input_data = np.array([[age, sex, cp, trestbps, chol, fbs, restecg, thalach, exang, oldpeak, slope, ca, thal]])\n",
        "\n",
        "#     # Scale the input data\n",
        "#     input_scaled = scaler.transform(input_data)\n",
        "\n",
        "#     # Make prediction\n",
        "#     prediction = model.predict(input_scaled)\n",
        "\n",
        "#     if prediction[0] == 1:\n",
        "#         return \"Heart Disease Detected\"\n",
        "#     else:\n",
        "#         return \"No Heart Disease\"\n",
        "\n"
      ],
      "metadata": {
        "id": "R9Ky7F0Ot5cr"
      },
      "execution_count": 7,
      "outputs": []
    },
    {
      "cell_type": "code",
      "source": [
        "from sklearn.preprocessing import LabelEncoder\n",
        "import numpy as np\n",
        "import pickle\n",
        "\n",
        "def predict_heart_diseas(age, sex, chest_pain, resting_bp, cholesterol, fasting_bs, resting_ecg, max_hr, exercise_angina, oldpeak, st_slope):\n",
        "    # Initialize LabelEncoders\n",
        "    sex_encoder = LabelEncoder()\n",
        "    sex_encoder.classes_ = np.array([\"F\", \"M\"])\n",
        "\n",
        "    chest_pain_encoder = LabelEncoder()\n",
        "    chest_pain_encoder.classes_ = np.array([\"ATA\", \"NAP\", \"ASY\", \"TA\"])\n",
        "\n",
        "    resting_ecg_encoder = LabelEncoder()\n",
        "    resting_ecg_encoder.classes_ = np.array([\"Normal\", \"ST\", \"LVH\"])\n",
        "\n",
        "    exercise_angina_encoder = LabelEncoder()\n",
        "    exercise_angina_encoder.classes_ = np.array([\"N\", \"Y\"])\n",
        "\n",
        "    st_slope_encoder = LabelEncoder()\n",
        "    st_slope_encoder.classes_ = np.array([\"Up\", \"Flat\", \"Down\"])\n",
        "\n",
        "    # Encode categorical features\n",
        "    sex_encoded = sex_encoder.transform([sex])[0]\n",
        "    chest_pain_encoded = chest_pain_encoder.transform([chest_pain])[0]\n",
        "    resting_ecg_encoded = resting_ecg_encoder.transform([resting_ecg])[0]\n",
        "    exercise_angina_encoded = exercise_angina_encoder.transform([exercise_angina])[0]\n",
        "    st_slope_encoded = st_slope_encoder.transform([st_slope])[0]\n",
        "\n",
        "    # Create input data array\n",
        "    input_data = [\n",
        "        age, sex_encoded, chest_pain_encoded, resting_bp, cholesterol, fasting_bs,\n",
        "        resting_ecg_encoded, max_hr, exercise_angina_encoded, oldpeak, st_slope_encoded\n",
        "    ]\n",
        "\n",
        "    # Reshape input data for prediction\n",
        "    input_data = [input_data]\n",
        "\n",
        "    # Load the model\n",
        "    with open('random_forest_model.pkl', 'rb') as model_file:\n",
        "        load_model = pickle.load(model_file)\n",
        "\n",
        "    # Make prediction\n",
        "    prediction = load_model.predict(input_data)[0]\n",
        "\n",
        "    if prediction ==0:\n",
        "        return f\"Yes\"\n",
        "    else:\n",
        "        return f\"No\"\n",
        ""
      ],
      "metadata": {
        "id": "gvkzh8NmvjyJ"
      },
      "execution_count": 12,
      "outputs": []
    },
    {
      "cell_type": "code",
      "execution_count": 13,
      "metadata": {
        "colab": {
          "base_uri": "https://localhost:8080/",
          "height": 646
        },
        "id": "Fq7eqfcDrX86",
        "outputId": "90d233ab-6a31-4595-c524-79576ace617d"
      },
      "outputs": [
        {
          "output_type": "stream",
          "name": "stdout",
          "text": [
            "Running Gradio in a Colab notebook requires sharing enabled. Automatically setting `share=True` (you can turn this off by setting `share=False` in `launch()` explicitly).\n",
            "\n",
            "Colab notebook detected. To show errors in colab notebook, set debug=True in launch()\n",
            "* Running on public URL: https://620329cfaa67c15230.gradio.live\n",
            "\n",
            "This share link expires in 72 hours. For free permanent hosting and GPU upgrades, run `gradio deploy` from the terminal in the working directory to deploy to Hugging Face Spaces (https://huggingface.co/spaces)\n"
          ]
        },
        {
          "output_type": "display_data",
          "data": {
            "text/plain": [
              "<IPython.core.display.HTML object>"
            ],
            "text/html": [
              "<div><iframe src=\"https://620329cfaa67c15230.gradio.live\" width=\"100%\" height=\"500\" allow=\"autoplay; camera; microphone; clipboard-read; clipboard-write;\" frameborder=\"0\" allowfullscreen></iframe></div>"
            ]
          },
          "metadata": {}
        },
        {
          "output_type": "execute_result",
          "data": {
            "text/plain": []
          },
          "metadata": {},
          "execution_count": 13
        }
      ],
      "source": [
        "# Define Gradio interface\n",
        "iface = gr.Interface(\n",
        "    fn=predict_heart_diseas,\n",
        "    inputs=[\n",
        "        gr.Number(label=\"Enter Age\", minimum=0, maximum=120, value=4),\n",
        "        gr.Radio(label=\"Sex\", choices=[\"M\", \"F\"]),\n",
        "        gr.Radio(label=\"Chest Pain Type\", choices=[\"ATA\", \"NAP\", \"ASY\", \"TA\"]),\n",
        "        gr.Number(label=\"Resting Blood Pressure\", minimum=0, maximum=200, value=130),\n",
        "        gr.Number(label=\"Cholesterol\", minimum=0, maximum=500, value=230),\n",
        "        gr.Radio(label=\"Fasting Blood Sugar\", choices=[\"0\", \"1\"]),\n",
        "        gr.Radio(label=\"Resting ECG\", choices=[\"Normal\", \"ST\", \"LVH\"]),\n",
        "        gr.Number(label=\"Max Heart Rate\", minimum=60, maximum=220, value=170),\n",
        "        gr.Radio(label=\"Exercise Angina\", choices=[\"N\", \"Y\"]),\n",
        "        gr.Number(label=\"Oldpeak\", minimum=0.0, maximum=6.0, value=2.5),\n",
        "        gr.Radio(label=\"ST Slope\", choices=[\"Up\", \"Flat\", \"Down\"])\n",
        "    ],\n",
        "    outputs=gr.Textbox(label=\"Prediction\"),\n",
        "    title=\"Heart Disease Prediction\",\n",
        "    description=\"Enter patient details to predict heart disease.\"\n",
        ")\n",
        "\n",
        "iface.launch()\n"
      ]
    }
  ]
}